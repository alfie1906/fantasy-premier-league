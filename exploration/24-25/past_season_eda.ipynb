{
 "cells": [
  {
   "cell_type": "markdown",
   "metadata": {},
   "source": [
    "# 2023-2024 FPL season - exploratory data analysis"
   ]
  },
  {
   "cell_type": "markdown",
   "metadata": {},
   "source": [
    "## Data import"
   ]
  },
  {
   "cell_type": "code",
   "execution_count": 1,
   "metadata": {},
   "outputs": [],
   "source": [
    "import sys\n",
    "sys.path.insert(0, '../../')\n",
    "\n",
    "import seaborn as sns\n",
    "\n",
    "from data_ingestion.data_utils import get_github_data\n",
    "\n",
    "\n",
    "teams = get_github_data('https://github.com/vaastav/Fantasy-Premier-League/blob/master/data/2023-24/teams.csv')\n",
    "players = get_github_data('https://github.com/vaastav/Fantasy-Premier-League/blob/master/data/2023-24/cleaned_players.csv')\n",
    "players_gw1 = get_github_data('https://github.com/vaastav/Fantasy-Premier-League/blob/master/data/2023-24/gws/gw1.csv')"
   ]
  },
  {
   "cell_type": "markdown",
   "metadata": {},
   "source": [
    "## Team analysis"
   ]
  },
  {
   "cell_type": "code",
   "execution_count": 2,
   "metadata": {},
   "outputs": [
    {
     "data": {
      "text/html": [
       "<div><style>\n",
       ".dataframe > thead > tr,\n",
       ".dataframe > tbody > tr {\n",
       "  text-align: right;\n",
       "  white-space: pre-wrap;\n",
       "}\n",
       "</style>\n",
       "<small>shape: (5, 21)</small><table border=\"1\" class=\"dataframe\"><thead><tr><th>code</th><th>draw</th><th>form</th><th>id</th><th>loss</th><th>name</th><th>played</th><th>points</th><th>position</th><th>short_name</th><th>strength</th><th>team_division</th><th>unavailable</th><th>win</th><th>strength_overall_home</th><th>strength_overall_away</th><th>strength_attack_home</th><th>strength_attack_away</th><th>strength_defence_home</th><th>strength_defence_away</th><th>pulse_id</th></tr><tr><td>i64</td><td>i64</td><td>f64</td><td>i64</td><td>i64</td><td>str</td><td>i64</td><td>i64</td><td>i64</td><td>str</td><td>i64</td><td>f64</td><td>bool</td><td>i64</td><td>i64</td><td>i64</td><td>i64</td><td>i64</td><td>i64</td><td>i64</td><td>i64</td></tr></thead><tbody><tr><td>3</td><td>0</td><td>null</td><td>1</td><td>0</td><td>&quot;Arsenal&quot;</td><td>0</td><td>0</td><td>0</td><td>&quot;ARS&quot;</td><td>5</td><td>null</td><td>false</td><td>0</td><td>1350</td><td>1365</td><td>1370</td><td>1370</td><td>1330</td><td>1360</td><td>1</td></tr><tr><td>7</td><td>0</td><td>null</td><td>2</td><td>0</td><td>&quot;Aston Villa&quot;</td><td>0</td><td>0</td><td>0</td><td>&quot;AVL&quot;</td><td>4</td><td>null</td><td>false</td><td>0</td><td>1160</td><td>1285</td><td>1140</td><td>1220</td><td>1180</td><td>1350</td><td>2</td></tr><tr><td>91</td><td>0</td><td>null</td><td>3</td><td>0</td><td>&quot;Bournemouth&quot;</td><td>0</td><td>0</td><td>0</td><td>&quot;BOU&quot;</td><td>3</td><td>null</td><td>false</td><td>0</td><td>1100</td><td>1100</td><td>1055</td><td>1130</td><td>1145</td><td>1075</td><td>127</td></tr><tr><td>94</td><td>0</td><td>null</td><td>4</td><td>0</td><td>&quot;Brentford&quot;</td><td>0</td><td>0</td><td>0</td><td>&quot;BRE&quot;</td><td>3</td><td>null</td><td>false</td><td>0</td><td>1100</td><td>1100</td><td>1110</td><td>1055</td><td>1090</td><td>1150</td><td>130</td></tr><tr><td>36</td><td>0</td><td>null</td><td>5</td><td>0</td><td>&quot;Brighton&quot;</td><td>0</td><td>0</td><td>0</td><td>&quot;BHA&quot;</td><td>3</td><td>null</td><td>false</td><td>0</td><td>1100</td><td>1210</td><td>1070</td><td>1180</td><td>1135</td><td>1240</td><td>131</td></tr></tbody></table></div>"
      ],
      "text/plain": [
       "shape: (5, 21)\n",
       "┌──────┬──────┬──────┬─────┬───┬──────────────────┬──────────────────┬──────────────────┬──────────┐\n",
       "│ code ┆ draw ┆ form ┆ id  ┆ … ┆ strength_attack_ ┆ strength_defence ┆ strength_defence ┆ pulse_id │\n",
       "│ ---  ┆ ---  ┆ ---  ┆ --- ┆   ┆ away             ┆ _home            ┆ _away            ┆ ---      │\n",
       "│ i64  ┆ i64  ┆ f64  ┆ i64 ┆   ┆ ---              ┆ ---              ┆ ---              ┆ i64      │\n",
       "│      ┆      ┆      ┆     ┆   ┆ i64              ┆ i64              ┆ i64              ┆          │\n",
       "╞══════╪══════╪══════╪═════╪═══╪══════════════════╪══════════════════╪══════════════════╪══════════╡\n",
       "│ 3    ┆ 0    ┆ null ┆ 1   ┆ … ┆ 1370             ┆ 1330             ┆ 1360             ┆ 1        │\n",
       "│ 7    ┆ 0    ┆ null ┆ 2   ┆ … ┆ 1220             ┆ 1180             ┆ 1350             ┆ 2        │\n",
       "│ 91   ┆ 0    ┆ null ┆ 3   ┆ … ┆ 1130             ┆ 1145             ┆ 1075             ┆ 127      │\n",
       "│ 94   ┆ 0    ┆ null ┆ 4   ┆ … ┆ 1055             ┆ 1090             ┆ 1150             ┆ 130      │\n",
       "│ 36   ┆ 0    ┆ null ┆ 5   ┆ … ┆ 1180             ┆ 1135             ┆ 1240             ┆ 131      │\n",
       "└──────┴──────┴──────┴─────┴───┴──────────────────┴──────────────────┴──────────────────┴──────────┘"
      ]
     },
     "execution_count": 2,
     "metadata": {},
     "output_type": "execute_result"
    }
   ],
   "source": [
    "teams.head()"
   ]
  },
  {
   "cell_type": "markdown",
   "metadata": {},
   "source": [
    "### Total squad points vs total squad cost"
   ]
  },
  {
   "cell_type": "code",
   "execution_count": 4,
   "metadata": {},
   "outputs": [
    {
     "data": {
      "text/html": [
       "<div><style>\n",
       ".dataframe > thead > tr,\n",
       ".dataframe > tbody > tr {\n",
       "  text-align: right;\n",
       "  white-space: pre-wrap;\n",
       "}\n",
       "</style>\n",
       "<small>shape: (5, 19)</small><table border=\"1\" class=\"dataframe\"><thead><tr><th>first_name</th><th>second_name</th><th>goals_scored</th><th>assists</th><th>total_points</th><th>minutes</th><th>goals_conceded</th><th>creativity</th><th>influence</th><th>threat</th><th>bonus</th><th>bps</th><th>ict_index</th><th>clean_sheets</th><th>red_cards</th><th>yellow_cards</th><th>selected_by_percent</th><th>now_cost</th><th>element_type</th></tr><tr><td>str</td><td>str</td><td>i64</td><td>i64</td><td>i64</td><td>i64</td><td>i64</td><td>f64</td><td>f64</td><td>f64</td><td>i64</td><td>i64</td><td>f64</td><td>i64</td><td>i64</td><td>i64</td><td>f64</td><td>i64</td><td>str</td></tr></thead><tbody><tr><td>&quot;Folarin&quot;</td><td>&quot;Balogun&quot;</td><td>0</td><td>0</td><td>0</td><td>0</td><td>0</td><td>0.0</td><td>0.0</td><td>0.0</td><td>0</td><td>0</td><td>0.0</td><td>0</td><td>0</td><td>0</td><td>0.2</td><td>44</td><td>&quot;FWD&quot;</td></tr><tr><td>&quot;Cédric&quot;</td><td>&quot;Alves Soares&quot;</td><td>0</td><td>0</td><td>3</td><td>59</td><td>0</td><td>4.3</td><td>2.0</td><td>0.0</td><td>0</td><td>15</td><td>0.6</td><td>0</td><td>0</td><td>0</td><td>0.5</td><td>38</td><td>&quot;DEF&quot;</td></tr><tr><td>&quot;Mohamed&quot;</td><td>&quot;Elneny&quot;</td><td>0</td><td>1</td><td>6</td><td>25</td><td>0</td><td>2.1</td><td>4.0</td><td>10.0</td><td>0</td><td>16</td><td>1.6</td><td>0</td><td>0</td><td>0</td><td>0.1</td><td>44</td><td>&quot;MID&quot;</td></tr><tr><td>&quot;Fábio&quot;</td><td>&quot;Ferreira Vieira&quot;</td><td>1</td><td>3</td><td>24</td><td>290</td><td>2</td><td>88.8</td><td>82.8</td><td>85.0</td><td>0</td><td>67</td><td>25.5</td><td>1</td><td>1</td><td>0</td><td>0.1</td><td>54</td><td>&quot;MID&quot;</td></tr><tr><td>&quot;Gabriel&quot;</td><td>&quot;dos Santos Magalhães&quot;</td><td>3</td><td>1</td><td>149</td><td>3042</td><td>26</td><td>121.9</td><td>675.8</td><td>379.0</td><td>8</td><td>676</td><td>117.9</td><td>16</td><td>0</td><td>4</td><td>28.3</td><td>54</td><td>&quot;DEF&quot;</td></tr></tbody></table></div>"
      ],
      "text/plain": [
       "shape: (5, 19)\n",
       "┌────────────┬────────────┬───────────┬─────────┬───┬───────────┬───────────┬──────────┬───────────┐\n",
       "│ first_name ┆ second_nam ┆ goals_sco ┆ assists ┆ … ┆ yellow_ca ┆ selected_ ┆ now_cost ┆ element_t │\n",
       "│ ---        ┆ e          ┆ red       ┆ ---     ┆   ┆ rds       ┆ by_percen ┆ ---      ┆ ype       │\n",
       "│ str        ┆ ---        ┆ ---       ┆ i64     ┆   ┆ ---       ┆ t         ┆ i64      ┆ ---       │\n",
       "│            ┆ str        ┆ i64       ┆         ┆   ┆ i64       ┆ ---       ┆          ┆ str       │\n",
       "│            ┆            ┆           ┆         ┆   ┆           ┆ f64       ┆          ┆           │\n",
       "╞════════════╪════════════╪═══════════╪═════════╪═══╪═══════════╪═══════════╪══════════╪═══════════╡\n",
       "│ Folarin    ┆ Balogun    ┆ 0         ┆ 0       ┆ … ┆ 0         ┆ 0.2       ┆ 44       ┆ FWD       │\n",
       "│ Cédric     ┆ Alves      ┆ 0         ┆ 0       ┆ … ┆ 0         ┆ 0.5       ┆ 38       ┆ DEF       │\n",
       "│            ┆ Soares     ┆           ┆         ┆   ┆           ┆           ┆          ┆           │\n",
       "│ Mohamed    ┆ Elneny     ┆ 0         ┆ 1       ┆ … ┆ 0         ┆ 0.1       ┆ 44       ┆ MID       │\n",
       "│ Fábio      ┆ Ferreira   ┆ 1         ┆ 3       ┆ … ┆ 0         ┆ 0.1       ┆ 54       ┆ MID       │\n",
       "│            ┆ Vieira     ┆           ┆         ┆   ┆           ┆           ┆          ┆           │\n",
       "│ Gabriel    ┆ dos Santos ┆ 3         ┆ 1       ┆ … ┆ 4         ┆ 28.3      ┆ 54       ┆ DEF       │\n",
       "│            ┆ Magalhães  ┆           ┆         ┆   ┆           ┆           ┆          ┆           │\n",
       "└────────────┴────────────┴───────────┴─────────┴───┴───────────┴───────────┴──────────┴───────────┘"
      ]
     },
     "execution_count": 4,
     "metadata": {},
     "output_type": "execute_result"
    }
   ],
   "source": [
    "players.head()"
   ]
  },
  {
   "cell_type": "code",
   "execution_count": null,
   "metadata": {},
   "outputs": [],
   "source": []
  }
 ],
 "metadata": {
  "kernelspec": {
   "display_name": "fantasy-premier-league-hBasC9yJ-py3.11",
   "language": "python",
   "name": "python3"
  },
  "language_info": {
   "codemirror_mode": {
    "name": "ipython",
    "version": 3
   },
   "file_extension": ".py",
   "mimetype": "text/x-python",
   "name": "python",
   "nbconvert_exporter": "python",
   "pygments_lexer": "ipython3",
   "version": "3.11.3"
  }
 },
 "nbformat": 4,
 "nbformat_minor": 2
}
